{
 "cells": [
  {
   "cell_type": "code",
   "execution_count": 1,
   "id": "60bd8c12",
   "metadata": {},
   "outputs": [],
   "source": [
    "import pandas as pd\n",
    "import numpy as np"
   ]
  },
  {
   "cell_type": "code",
   "execution_count": 3,
   "id": "a3bbfeea",
   "metadata": {},
   "outputs": [],
   "source": [
    "company=pd.read_csv(\"dataset_2209_stock.csv\")"
   ]
  },
  {
   "cell_type": "code",
   "execution_count": 4,
   "id": "e7f909d8",
   "metadata": {},
   "outputs": [
    {
     "data": {
      "text/html": [
       "<div>\n",
       "<style scoped>\n",
       "    .dataframe tbody tr th:only-of-type {\n",
       "        vertical-align: middle;\n",
       "    }\n",
       "\n",
       "    .dataframe tbody tr th {\n",
       "        vertical-align: top;\n",
       "    }\n",
       "\n",
       "    .dataframe thead th {\n",
       "        text-align: right;\n",
       "    }\n",
       "</style>\n",
       "<table border=\"1\" class=\"dataframe\">\n",
       "  <thead>\n",
       "    <tr style=\"text-align: right;\">\n",
       "      <th></th>\n",
       "      <th>company1</th>\n",
       "      <th>company2</th>\n",
       "      <th>company3</th>\n",
       "      <th>company4</th>\n",
       "      <th>company5</th>\n",
       "      <th>company6</th>\n",
       "      <th>company7</th>\n",
       "      <th>company8</th>\n",
       "      <th>company9</th>\n",
       "      <th>company10</th>\n",
       "    </tr>\n",
       "  </thead>\n",
       "  <tbody>\n",
       "    <tr>\n",
       "      <th>0</th>\n",
       "      <td>17.219</td>\n",
       "      <td>50.500</td>\n",
       "      <td>18.750</td>\n",
       "      <td>43.000</td>\n",
       "      <td>60.875</td>\n",
       "      <td>26.375</td>\n",
       "      <td>67.750</td>\n",
       "      <td>19.000</td>\n",
       "      <td>48.750</td>\n",
       "      <td>34.875</td>\n",
       "    </tr>\n",
       "    <tr>\n",
       "      <th>1</th>\n",
       "      <td>17.891</td>\n",
       "      <td>51.375</td>\n",
       "      <td>19.625</td>\n",
       "      <td>44.000</td>\n",
       "      <td>62.000</td>\n",
       "      <td>26.125</td>\n",
       "      <td>68.125</td>\n",
       "      <td>19.125</td>\n",
       "      <td>48.750</td>\n",
       "      <td>35.625</td>\n",
       "    </tr>\n",
       "    <tr>\n",
       "      <th>2</th>\n",
       "      <td>18.438</td>\n",
       "      <td>50.875</td>\n",
       "      <td>19.875</td>\n",
       "      <td>43.875</td>\n",
       "      <td>61.875</td>\n",
       "      <td>27.250</td>\n",
       "      <td>68.500</td>\n",
       "      <td>18.250</td>\n",
       "      <td>49.000</td>\n",
       "      <td>36.375</td>\n",
       "    </tr>\n",
       "    <tr>\n",
       "      <th>3</th>\n",
       "      <td>18.672</td>\n",
       "      <td>51.500</td>\n",
       "      <td>20.000</td>\n",
       "      <td>44.000</td>\n",
       "      <td>62.625</td>\n",
       "      <td>27.875</td>\n",
       "      <td>69.375</td>\n",
       "      <td>18.375</td>\n",
       "      <td>49.625</td>\n",
       "      <td>36.250</td>\n",
       "    </tr>\n",
       "    <tr>\n",
       "      <th>4</th>\n",
       "      <td>17.438</td>\n",
       "      <td>49.000</td>\n",
       "      <td>20.000</td>\n",
       "      <td>41.375</td>\n",
       "      <td>59.750</td>\n",
       "      <td>25.875</td>\n",
       "      <td>63.250</td>\n",
       "      <td>16.500</td>\n",
       "      <td>47.500</td>\n",
       "      <td>35.500</td>\n",
       "    </tr>\n",
       "    <tr>\n",
       "      <th>...</th>\n",
       "      <td>...</td>\n",
       "      <td>...</td>\n",
       "      <td>...</td>\n",
       "      <td>...</td>\n",
       "      <td>...</td>\n",
       "      <td>...</td>\n",
       "      <td>...</td>\n",
       "      <td>...</td>\n",
       "      <td>...</td>\n",
       "      <td>...</td>\n",
       "    </tr>\n",
       "    <tr>\n",
       "      <th>945</th>\n",
       "      <td>50.375</td>\n",
       "      <td>46.250</td>\n",
       "      <td>19.375</td>\n",
       "      <td>52.250</td>\n",
       "      <td>61.875</td>\n",
       "      <td>23.500</td>\n",
       "      <td>78.625</td>\n",
       "      <td>26.625</td>\n",
       "      <td>41.875</td>\n",
       "      <td>44.375</td>\n",
       "    </tr>\n",
       "    <tr>\n",
       "      <th>946</th>\n",
       "      <td>50.750</td>\n",
       "      <td>46.375</td>\n",
       "      <td>19.625</td>\n",
       "      <td>50.875</td>\n",
       "      <td>64.625</td>\n",
       "      <td>23.250</td>\n",
       "      <td>77.625</td>\n",
       "      <td>26.500</td>\n",
       "      <td>40.750</td>\n",
       "      <td>45.000</td>\n",
       "    </tr>\n",
       "    <tr>\n",
       "      <th>947</th>\n",
       "      <td>50.625</td>\n",
       "      <td>46.625</td>\n",
       "      <td>19.625</td>\n",
       "      <td>50.875</td>\n",
       "      <td>64.625</td>\n",
       "      <td>23.250</td>\n",
       "      <td>75.000</td>\n",
       "      <td>26.250</td>\n",
       "      <td>41.250</td>\n",
       "      <td>44.125</td>\n",
       "    </tr>\n",
       "    <tr>\n",
       "      <th>948</th>\n",
       "      <td>50.125</td>\n",
       "      <td>47.000</td>\n",
       "      <td>19.875</td>\n",
       "      <td>50.750</td>\n",
       "      <td>62.750</td>\n",
       "      <td>22.875</td>\n",
       "      <td>74.500</td>\n",
       "      <td>25.250</td>\n",
       "      <td>40.625</td>\n",
       "      <td>43.875</td>\n",
       "    </tr>\n",
       "    <tr>\n",
       "      <th>949</th>\n",
       "      <td>49.000</td>\n",
       "      <td>47.000</td>\n",
       "      <td>19.500</td>\n",
       "      <td>49.500</td>\n",
       "      <td>60.875</td>\n",
       "      <td>22.750</td>\n",
       "      <td>75.625</td>\n",
       "      <td>25.500</td>\n",
       "      <td>40.500</td>\n",
       "      <td>43.375</td>\n",
       "    </tr>\n",
       "  </tbody>\n",
       "</table>\n",
       "<p>950 rows × 10 columns</p>\n",
       "</div>"
      ],
      "text/plain": [
       "     company1  company2  company3  company4  company5  company6  company7  \\\n",
       "0      17.219    50.500    18.750    43.000    60.875    26.375    67.750   \n",
       "1      17.891    51.375    19.625    44.000    62.000    26.125    68.125   \n",
       "2      18.438    50.875    19.875    43.875    61.875    27.250    68.500   \n",
       "3      18.672    51.500    20.000    44.000    62.625    27.875    69.375   \n",
       "4      17.438    49.000    20.000    41.375    59.750    25.875    63.250   \n",
       "..        ...       ...       ...       ...       ...       ...       ...   \n",
       "945    50.375    46.250    19.375    52.250    61.875    23.500    78.625   \n",
       "946    50.750    46.375    19.625    50.875    64.625    23.250    77.625   \n",
       "947    50.625    46.625    19.625    50.875    64.625    23.250    75.000   \n",
       "948    50.125    47.000    19.875    50.750    62.750    22.875    74.500   \n",
       "949    49.000    47.000    19.500    49.500    60.875    22.750    75.625   \n",
       "\n",
       "     company8  company9  company10  \n",
       "0      19.000    48.750     34.875  \n",
       "1      19.125    48.750     35.625  \n",
       "2      18.250    49.000     36.375  \n",
       "3      18.375    49.625     36.250  \n",
       "4      16.500    47.500     35.500  \n",
       "..        ...       ...        ...  \n",
       "945    26.625    41.875     44.375  \n",
       "946    26.500    40.750     45.000  \n",
       "947    26.250    41.250     44.125  \n",
       "948    25.250    40.625     43.875  \n",
       "949    25.500    40.500     43.375  \n",
       "\n",
       "[950 rows x 10 columns]"
      ]
     },
     "execution_count": 4,
     "metadata": {},
     "output_type": "execute_result"
    }
   ],
   "source": [
    "company"
   ]
  },
  {
   "cell_type": "code",
   "execution_count": null,
   "id": "bf257f4a",
   "metadata": {},
   "outputs": [],
   "source": []
  },
  {
   "cell_type": "code",
   "execution_count": 6,
   "id": "c646707d",
   "metadata": {},
   "outputs": [
    {
     "data": {
      "text/plain": [
       "company10    1.000000\n",
       "company1     0.711148\n",
       "company8     0.526172\n",
       "company9     0.249876\n",
       "company4     0.078256\n",
       "company7     0.073059\n",
       "company5    -0.215763\n",
       "company2    -0.256220\n",
       "company3    -0.509980\n",
       "company6    -0.670568\n",
       "Name: company10, dtype: float64"
      ]
     },
     "execution_count": 6,
     "metadata": {},
     "output_type": "execute_result"
    }
   ],
   "source": [
    "corr_metrix=company.corr()\n",
    "corr_metrix['company10'].sort_values(ascending=False)"
   ]
  },
  {
   "cell_type": "code",
   "execution_count": 5,
   "id": "f3d655d9",
   "metadata": {},
   "outputs": [
    {
     "name": "stderr",
     "output_type": "stream",
     "text": [
      "/home/aman/.local/lib/python3.8/site-packages/pandas/plotting/_matplotlib/tools.py:400: MatplotlibDeprecationWarning: \n",
      "The is_first_col function was deprecated in Matplotlib 3.4 and will be removed two minor releases later. Use ax.get_subplotspec().is_first_col() instead.\n",
      "  if ax.is_first_col():\n",
      "No handles with labels found to put in legend.\n"
     ]
    },
    {
     "data": {
      "image/png": "[encoded data removed]",
      "text/plain": [
       "<Figure size 1440x1440 with 12 Axes>"
      ]
     },
     "metadata": {
      "needs_background": "light"
     },
     "output_type": "display_data"
    }
   ],
   "source": [
    "import matplotlib.pyplot as plt\n",
    "\n",
    "company.hist(figsize=(20,20))\n",
    "plt.legend()\n",
    "plt.show()"
   ]
  },
  {
   "cell_type": "code",
   "execution_count": 11,
   "id": "819eaed2",
   "metadata": {},
   "outputs": [],
   "source": [
    "from sklearn.model_selection import train_test_split\n",
    "x=company.drop('company10',axis=1)\n",
    "y=company.company10\n",
    "x_train,X_test,Y_train,Y_test=train_test_split(x,y,test_size=0.3,random_state=42)"
   ]
  },
  {
   "cell_type": "code",
   "execution_count": 12,
   "id": "0ca39e60",
   "metadata": {},
   "outputs": [
    {
     "data": {
      "text/html": [
       "<div>\n",
       "<style scoped>\n",
       "    .dataframe tbody tr th:only-of-type {\n",
       "        vertical-align: middle;\n",
       "    }\n",
       "\n",
       "    .dataframe tbody tr th {\n",
       "        vertical-align: top;\n",
       "    }\n",
       "\n",
       "    .dataframe thead th {\n",
       "        text-align: right;\n",
       "    }\n",
       "</style>\n",
       "<table border=\"1\" class=\"dataframe\">\n",
       "  <thead>\n",
       "    <tr style=\"text-align: right;\">\n",
       "      <th></th>\n",
       "      <th>company1</th>\n",
       "      <th>company2</th>\n",
       "      <th>company3</th>\n",
       "      <th>company4</th>\n",
       "      <th>company5</th>\n",
       "      <th>company6</th>\n",
       "      <th>company7</th>\n",
       "      <th>company8</th>\n",
       "      <th>company9</th>\n",
       "    </tr>\n",
       "  </thead>\n",
       "  <tbody>\n",
       "    <tr>\n",
       "      <th>886</th>\n",
       "      <td>44.625</td>\n",
       "      <td>42.250</td>\n",
       "      <td>17.625</td>\n",
       "      <td>56.500</td>\n",
       "      <td>54.000</td>\n",
       "      <td>24.750</td>\n",
       "      <td>80.125</td>\n",
       "      <td>27.750</td>\n",
       "      <td>42.250</td>\n",
       "    </tr>\n",
       "    <tr>\n",
       "      <th>694</th>\n",
       "      <td>44.250</td>\n",
       "      <td>23.000</td>\n",
       "      <td>14.750</td>\n",
       "      <td>38.375</td>\n",
       "      <td>47.250</td>\n",
       "      <td>16.375</td>\n",
       "      <td>65.875</td>\n",
       "      <td>25.000</td>\n",
       "      <td>38.250</td>\n",
       "    </tr>\n",
       "    <tr>\n",
       "      <th>212</th>\n",
       "      <td>28.328</td>\n",
       "      <td>54.250</td>\n",
       "      <td>23.000</td>\n",
       "      <td>43.625</td>\n",
       "      <td>78.375</td>\n",
       "      <td>35.250</td>\n",
       "      <td>72.125</td>\n",
       "      <td>21.625</td>\n",
       "      <td>44.250</td>\n",
       "    </tr>\n",
       "    <tr>\n",
       "      <th>79</th>\n",
       "      <td>20.828</td>\n",
       "      <td>54.750</td>\n",
       "      <td>21.625</td>\n",
       "      <td>43.125</td>\n",
       "      <td>64.625</td>\n",
       "      <td>28.875</td>\n",
       "      <td>66.375</td>\n",
       "      <td>18.875</td>\n",
       "      <td>43.125</td>\n",
       "    </tr>\n",
       "    <tr>\n",
       "      <th>148</th>\n",
       "      <td>27.781</td>\n",
       "      <td>52.875</td>\n",
       "      <td>21.250</td>\n",
       "      <td>41.000</td>\n",
       "      <td>65.625</td>\n",
       "      <td>31.125</td>\n",
       "      <td>67.750</td>\n",
       "      <td>20.875</td>\n",
       "      <td>46.250</td>\n",
       "    </tr>\n",
       "    <tr>\n",
       "      <th>...</th>\n",
       "      <td>...</td>\n",
       "      <td>...</td>\n",
       "      <td>...</td>\n",
       "      <td>...</td>\n",
       "      <td>...</td>\n",
       "      <td>...</td>\n",
       "      <td>...</td>\n",
       "      <td>...</td>\n",
       "      <td>...</td>\n",
       "    </tr>\n",
       "    <tr>\n",
       "      <th>106</th>\n",
       "      <td>24.500</td>\n",
       "      <td>52.750</td>\n",
       "      <td>19.750</td>\n",
       "      <td>41.875</td>\n",
       "      <td>60.375</td>\n",
       "      <td>28.875</td>\n",
       "      <td>63.750</td>\n",
       "      <td>19.500</td>\n",
       "      <td>46.750</td>\n",
       "    </tr>\n",
       "    <tr>\n",
       "      <th>270</th>\n",
       "      <td>28.000</td>\n",
       "      <td>49.875</td>\n",
       "      <td>19.875</td>\n",
       "      <td>42.250</td>\n",
       "      <td>84.625</td>\n",
       "      <td>26.125</td>\n",
       "      <td>70.250</td>\n",
       "      <td>21.625</td>\n",
       "      <td>44.000</td>\n",
       "    </tr>\n",
       "    <tr>\n",
       "      <th>860</th>\n",
       "      <td>46.875</td>\n",
       "      <td>38.750</td>\n",
       "      <td>16.750</td>\n",
       "      <td>59.750</td>\n",
       "      <td>51.250</td>\n",
       "      <td>23.000</td>\n",
       "      <td>82.375</td>\n",
       "      <td>27.250</td>\n",
       "      <td>40.000</td>\n",
       "    </tr>\n",
       "    <tr>\n",
       "      <th>435</th>\n",
       "      <td>39.000</td>\n",
       "      <td>57.375</td>\n",
       "      <td>21.000</td>\n",
       "      <td>50.625</td>\n",
       "      <td>72.625</td>\n",
       "      <td>23.250</td>\n",
       "      <td>79.125</td>\n",
       "      <td>24.250</td>\n",
       "      <td>47.625</td>\n",
       "    </tr>\n",
       "    <tr>\n",
       "      <th>102</th>\n",
       "      <td>23.938</td>\n",
       "      <td>53.000</td>\n",
       "      <td>19.875</td>\n",
       "      <td>40.000</td>\n",
       "      <td>59.500</td>\n",
       "      <td>28.750</td>\n",
       "      <td>61.500</td>\n",
       "      <td>18.625</td>\n",
       "      <td>45.000</td>\n",
       "    </tr>\n",
       "  </tbody>\n",
       "</table>\n",
       "<p>665 rows × 9 columns</p>\n",
       "</div>"
      ],
      "text/plain": [
       "     company1  company2  company3  company4  company5  company6  company7  \\\n",
       "886    44.625    42.250    17.625    56.500    54.000    24.750    80.125   \n",
       "694    44.250    23.000    14.750    38.375    47.250    16.375    65.875   \n",
       "212    28.328    54.250    23.000    43.625    78.375    35.250    72.125   \n",
       "79     20.828    54.750    21.625    43.125    64.625    28.875    66.375   \n",
       "148    27.781    52.875    21.250    41.000    65.625    31.125    67.750   \n",
       "..        ...       ...       ...       ...       ...       ...       ...   \n",
       "106    24.500    52.750    19.750    41.875    60.375    28.875    63.750   \n",
       "270    28.000    49.875    19.875    42.250    84.625    26.125    70.250   \n",
       "860    46.875    38.750    16.750    59.750    51.250    23.000    82.375   \n",
       "435    39.000    57.375    21.000    50.625    72.625    23.250    79.125   \n",
       "102    23.938    53.000    19.875    40.000    59.500    28.750    61.500   \n",
       "\n",
       "     company8  company9  \n",
       "886    27.750    42.250  \n",
       "694    25.000    38.250  \n",
       "212    21.625    44.250  \n",
       "79     18.875    43.125  \n",
       "148    20.875    46.250  \n",
       "..        ...       ...  \n",
       "106    19.500    46.750  \n",
       "270    21.625    44.000  \n",
       "860    27.250    40.000  \n",
       "435    24.250    47.625  \n",
       "102    18.625    45.000  \n",
       "\n",
       "[665 rows x 9 columns]"
      ]
     },
     "execution_count": 12,
     "metadata": {},
     "output_type": "execute_result"
    }
   ],
   "source": [
    "x_train"
   ]
  },
  {
   "cell_type": "code",
   "execution_count": 35,
   "id": "459f176e",
   "metadata": {},
   "outputs": [
    {
     "data": {
      "text/plain": [
       "DecisionTreeRegressor()"
      ]
     },
     "execution_count": 35,
     "metadata": {},
     "output_type": "execute_result"
    }
   ],
   "source": [
    "from sklearn.linear_model import LinearRegression\n",
    "from sklearn.tree import DecisionTreeRegressor\n",
    "from sklearn.ensemble import RandomForestRegressor\n",
    "# model=DecisionTreeRegressor()\n",
    "# model=LinearRegression()\n",
    "model=RandomForestRegressor()\n",
    "model.fit(x_train,Y_train)"
   ]
  },
  {
   "cell_type": "code",
   "execution_count": 29,
   "id": "d0cd3fa8",
   "metadata": {},
   "outputs": [],
   "source": [
    "valid_x=x_train.iloc[:8]\n",
    "valid_y=Y_train.iloc[:8]"
   ]
  },
  {
   "cell_type": "code",
   "execution_count": 30,
   "id": "16225cec",
   "metadata": {},
   "outputs": [],
   "source": [
    "valid_pred=model.predict(valid_x)"
   ]
  },
  {
   "cell_type": "code",
   "execution_count": 31,
   "id": "a8194beb",
   "metadata": {},
   "outputs": [
    {
     "data": {
      "text/plain": [
       "array([45.   , 44.25 , 41.875, 39.625, 38.   , 43.75 , 53.   , 43.75 ])"
      ]
     },
     "execution_count": 31,
     "metadata": {},
     "output_type": "execute_result"
    }
   ],
   "source": [
    "valid_pred"
   ]
  },
  {
   "cell_type": "code",
   "execution_count": 32,
   "id": "b7bbc5ec",
   "metadata": {},
   "outputs": [
    {
     "data": {
      "text/plain": [
       "886    45.000\n",
       "694    44.250\n",
       "212    41.875\n",
       "79     39.625\n",
       "148    38.000\n",
       "292    43.750\n",
       "451    53.000\n",
       "306    43.750\n",
       "Name: company10, dtype: float64"
      ]
     },
     "execution_count": 32,
     "metadata": {},
     "output_type": "execute_result"
    }
   ],
   "source": [
    "valid_y"
   ]
  },
  {
   "cell_type": "code",
   "execution_count": 33,
   "id": "6fd863da",
   "metadata": {},
   "outputs": [],
   "source": [
    "from sklearn.model_selection import cross_val_score\n",
    "scores=cross_val_score(model,x_train,Y_train,scoring=\"neg_mean_squared_error\",cv=10)\n",
    "rmse_scores= np.sqrt(-scores)"
   ]
  },
  {
   "cell_type": "code",
   "execution_count": 34,
   "id": "031551b8",
   "metadata": {},
   "outputs": [
    {
     "data": {
      "text/plain": [
       "array([1.39929353, 0.97616176, 1.04960902, 1.81829683, 1.71751567,\n",
       "       1.59618983, 1.45676322, 1.15736279, 1.17290674, 1.12162794])"
      ]
     },
     "execution_count": 34,
     "metadata": {},
     "output_type": "execute_result"
    }
   ],
   "source": [
    "rmse_scores"
   ]
  },
  {
   "cell_type": "code",
   "execution_count": null,
   "id": "a783891d",
   "metadata": {},
   "outputs": [],
   "source": []
  },
  {
   "cell_type": "code",
   "execution_count": null,
   "id": "f0cae6f7",
   "metadata": {},
   "outputs": [],
   "source": []
  }
 ],
 "metadata": {
  "kernelspec": {
   "display_name": "Python 3",
   "language": "python",
   "name": "python3"
  },
  "language_info": {
   "codemirror_mode": {
    "name": "ipython",
    "version": 3
   },
   "file_extension": ".py",
   "mimetype": "text/x-python",
   "name": "python",
   "nbconvert_exporter": "python",
   "pygments_lexer": "ipython3",
   "version": "3.8.5"
  }
 },
 "nbformat": 4,
 "nbformat_minor": 5
}
