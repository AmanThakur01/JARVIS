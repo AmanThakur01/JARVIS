{
 "cells": [
  {
   "cell_type": "code",
   "execution_count": 7,
   "id": "92c3f124",
   "metadata": {},
   "outputs": [],
   "source": [
    "import numpy as np\n",
    "num=np.array([[1,2,3,4,5,6],[2,4,3,4,5,6],[2, 4,3,4,5,6],[2, 4,3,4,5,6],[2, 4,3,4,5,6],[2, 4,3,4,5,6],[2, 4,3,4,5,6],[2, 4,3,4,5,6]])"
   ]
  },
  {
   "cell_type": "code",
   "execution_count": 8,
   "id": "4e92ccfd",
   "metadata": {},
   "outputs": [
    {
     "data": {
      "text/plain": [
       "array([[1, 2, 3, 4, 5, 6],\n",
       "       [2, 4, 3, 4, 5, 6],\n",
       "       [2, 4, 3, 4, 5, 6],\n",
       "       [2, 4, 3, 4, 5, 6],\n",
       "       [2, 4, 3, 4, 5, 6],\n",
       "       [2, 4, 3, 4, 5, 6],\n",
       "       [2, 4, 3, 4, 5, 6],\n",
       "       [2, 4, 3, 4, 5, 6]])"
      ]
     },
     "execution_count": 8,
     "metadata": {},
     "output_type": "execute_result"
    }
   ],
   "source": [
    "num"
   ]
  },
  {
   "cell_type": "code",
   "execution_count": 19,
   "id": "6c859594",
   "metadata": {},
   "outputs": [],
   "source": [
    "n=num[:,2:4]"
   ]
  },
  {
   "cell_type": "code",
   "execution_count": 20,
   "id": "0c558da6",
   "metadata": {},
   "outputs": [
    {
     "data": {
      "text/plain": [
       "array([[3, 4],\n",
       "       [3, 4],\n",
       "       [3, 4],\n",
       "       [3, 4],\n",
       "       [3, 4],\n",
       "       [3, 4],\n",
       "       [3, 4],\n",
       "       [3, 4]])"
      ]
     },
     "execution_count": 20,
     "metadata": {},
     "output_type": "execute_result"
    }
   ],
   "source": [
    "n"
   ]
  },
  {
   "cell_type": "code",
   "execution_count": null,
   "id": "519b6355",
   "metadata": {},
   "outputs": [],
   "source": []
  }
 ],
 "metadata": {
  "kernelspec": {
   "display_name": "Python 3",
   "language": "python",
   "name": "python3"
  },
  "language_info": {
   "codemirror_mode": {
    "name": "ipython",
    "version": 3
   },
   "file_extension": ".py",
   "mimetype": "text/x-python",
   "name": "python",
   "nbconvert_exporter": "python",
   "pygments_lexer": "ipython3",
   "version": "3.8.5"
  }
 },
 "nbformat": 4,
 "nbformat_minor": 5
}
