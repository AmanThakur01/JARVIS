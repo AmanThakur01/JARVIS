{
 "cells": [
  {
   "cell_type": "code",
   "execution_count": 1,
   "id": "ab20b18f",
   "metadata": {},
   "outputs": [],
   "source": [
    "import pandas as pd\n",
    "import numpy as np"
   ]
  },
  {
   "cell_type": "code",
   "execution_count": 2,
   "id": "19b1d8c8",
   "metadata": {},
   "outputs": [],
   "source": [
    "housing=pd.read_excel(\"data.ods\")"
   ]
  },
  {
   "cell_type": "code",
   "execution_count": 3,
   "id": "9eacdc71",
   "metadata": {},
   "outputs": [
    {
     "data": {
      "text/html": [
       "<div>\n",
       "<style scoped>\n",
       "    .dataframe tbody tr th:only-of-type {\n",
       "        vertical-align: middle;\n",
       "    }\n",
       "\n",
       "    .dataframe tbody tr th {\n",
       "        vertical-align: top;\n",
       "    }\n",
       "\n",
       "    .dataframe thead th {\n",
       "        text-align: right;\n",
       "    }\n",
       "</style>\n",
       "<table border=\"1\" class=\"dataframe\">\n",
       "  <thead>\n",
       "    <tr style=\"text-align: right;\">\n",
       "      <th></th>\n",
       "      <th>CRIM</th>\n",
       "      <th>ZN</th>\n",
       "      <th>INDUS</th>\n",
       "      <th>CHAS</th>\n",
       "      <th>NOX</th>\n",
       "      <th>RM</th>\n",
       "      <th>AGE</th>\n",
       "      <th>DIS</th>\n",
       "      <th>RAD</th>\n",
       "      <th>TAX</th>\n",
       "      <th>PTRATIO</th>\n",
       "      <th>B</th>\n",
       "      <th>LSTAT</th>\n",
       "      <th>MEDV</th>\n",
       "    </tr>\n",
       "  </thead>\n",
       "  <tbody>\n",
       "    <tr>\n",
       "      <th>0</th>\n",
       "      <td>0.00632</td>\n",
       "      <td>18.0</td>\n",
       "      <td>2.31</td>\n",
       "      <td>0</td>\n",
       "      <td>0.538</td>\n",
       "      <td>6.575</td>\n",
       "      <td>65.2</td>\n",
       "      <td>4.0900</td>\n",
       "      <td>1</td>\n",
       "      <td>296</td>\n",
       "      <td>15.3</td>\n",
       "      <td>396.90</td>\n",
       "      <td>4.98</td>\n",
       "      <td>24.0</td>\n",
       "    </tr>\n",
       "    <tr>\n",
       "      <th>1</th>\n",
       "      <td>0.02731</td>\n",
       "      <td>0.0</td>\n",
       "      <td>7.07</td>\n",
       "      <td>0</td>\n",
       "      <td>0.469</td>\n",
       "      <td>6.421</td>\n",
       "      <td>78.9</td>\n",
       "      <td>4.9671</td>\n",
       "      <td>2</td>\n",
       "      <td>242</td>\n",
       "      <td>17.8</td>\n",
       "      <td>396.90</td>\n",
       "      <td>9.14</td>\n",
       "      <td>21.6</td>\n",
       "    </tr>\n",
       "    <tr>\n",
       "      <th>2</th>\n",
       "      <td>0.02729</td>\n",
       "      <td>0.0</td>\n",
       "      <td>7.07</td>\n",
       "      <td>0</td>\n",
       "      <td>0.469</td>\n",
       "      <td>7.185</td>\n",
       "      <td>61.1</td>\n",
       "      <td>4.9671</td>\n",
       "      <td>2</td>\n",
       "      <td>242</td>\n",
       "      <td>17.8</td>\n",
       "      <td>392.83</td>\n",
       "      <td>4.03</td>\n",
       "      <td>34.7</td>\n",
       "    </tr>\n",
       "    <tr>\n",
       "      <th>3</th>\n",
       "      <td>0.03237</td>\n",
       "      <td>0.0</td>\n",
       "      <td>2.18</td>\n",
       "      <td>0</td>\n",
       "      <td>0.458</td>\n",
       "      <td>6.998</td>\n",
       "      <td>45.8</td>\n",
       "      <td>6.0622</td>\n",
       "      <td>3</td>\n",
       "      <td>222</td>\n",
       "      <td>18.7</td>\n",
       "      <td>394.63</td>\n",
       "      <td>2.94</td>\n",
       "      <td>33.4</td>\n",
       "    </tr>\n",
       "    <tr>\n",
       "      <th>4</th>\n",
       "      <td>0.06905</td>\n",
       "      <td>0.0</td>\n",
       "      <td>2.18</td>\n",
       "      <td>0</td>\n",
       "      <td>0.458</td>\n",
       "      <td>7.147</td>\n",
       "      <td>54.2</td>\n",
       "      <td>6.0622</td>\n",
       "      <td>3</td>\n",
       "      <td>222</td>\n",
       "      <td>18.7</td>\n",
       "      <td>396.90</td>\n",
       "      <td>5.33</td>\n",
       "      <td>36.2</td>\n",
       "    </tr>\n",
       "    <tr>\n",
       "      <th>...</th>\n",
       "      <td>...</td>\n",
       "      <td>...</td>\n",
       "      <td>...</td>\n",
       "      <td>...</td>\n",
       "      <td>...</td>\n",
       "      <td>...</td>\n",
       "      <td>...</td>\n",
       "      <td>...</td>\n",
       "      <td>...</td>\n",
       "      <td>...</td>\n",
       "      <td>...</td>\n",
       "      <td>...</td>\n",
       "      <td>...</td>\n",
       "      <td>...</td>\n",
       "    </tr>\n",
       "    <tr>\n",
       "      <th>447</th>\n",
       "      <td>0.06263</td>\n",
       "      <td>0.0</td>\n",
       "      <td>11.93</td>\n",
       "      <td>0</td>\n",
       "      <td>0.573</td>\n",
       "      <td>6.593</td>\n",
       "      <td>69.1</td>\n",
       "      <td>2.4786</td>\n",
       "      <td>1</td>\n",
       "      <td>273</td>\n",
       "      <td>21.0</td>\n",
       "      <td>391.99</td>\n",
       "      <td>9.67</td>\n",
       "      <td>22.4</td>\n",
       "    </tr>\n",
       "    <tr>\n",
       "      <th>448</th>\n",
       "      <td>0.04527</td>\n",
       "      <td>0.0</td>\n",
       "      <td>11.93</td>\n",
       "      <td>0</td>\n",
       "      <td>0.573</td>\n",
       "      <td>6.120</td>\n",
       "      <td>76.7</td>\n",
       "      <td>2.2875</td>\n",
       "      <td>1</td>\n",
       "      <td>273</td>\n",
       "      <td>21.0</td>\n",
       "      <td>396.90</td>\n",
       "      <td>9.08</td>\n",
       "      <td>20.6</td>\n",
       "    </tr>\n",
       "    <tr>\n",
       "      <th>449</th>\n",
       "      <td>0.06076</td>\n",
       "      <td>0.0</td>\n",
       "      <td>11.93</td>\n",
       "      <td>0</td>\n",
       "      <td>0.573</td>\n",
       "      <td>6.976</td>\n",
       "      <td>91.0</td>\n",
       "      <td>2.1675</td>\n",
       "      <td>1</td>\n",
       "      <td>273</td>\n",
       "      <td>21.0</td>\n",
       "      <td>396.90</td>\n",
       "      <td>5.64</td>\n",
       "      <td>23.9</td>\n",
       "    </tr>\n",
       "    <tr>\n",
       "      <th>450</th>\n",
       "      <td>0.10959</td>\n",
       "      <td>0.0</td>\n",
       "      <td>11.93</td>\n",
       "      <td>0</td>\n",
       "      <td>0.573</td>\n",
       "      <td>6.794</td>\n",
       "      <td>89.3</td>\n",
       "      <td>2.3889</td>\n",
       "      <td>1</td>\n",
       "      <td>273</td>\n",
       "      <td>21.0</td>\n",
       "      <td>393.45</td>\n",
       "      <td>6.48</td>\n",
       "      <td>22.0</td>\n",
       "    </tr>\n",
       "    <tr>\n",
       "      <th>451</th>\n",
       "      <td>0.04741</td>\n",
       "      <td>0.0</td>\n",
       "      <td>11.93</td>\n",
       "      <td>0</td>\n",
       "      <td>0.573</td>\n",
       "      <td>6.030</td>\n",
       "      <td>80.8</td>\n",
       "      <td>2.5050</td>\n",
       "      <td>1</td>\n",
       "      <td>273</td>\n",
       "      <td>21.0</td>\n",
       "      <td>396.90</td>\n",
       "      <td>7.88</td>\n",
       "      <td>11.9</td>\n",
       "    </tr>\n",
       "  </tbody>\n",
       "</table>\n",
       "<p>452 rows × 14 columns</p>\n",
       "</div>"
      ],
      "text/plain": [
       "        CRIM    ZN  INDUS  CHAS    NOX     RM   AGE     DIS  RAD  TAX  \\\n",
       "0    0.00632  18.0   2.31     0  0.538  6.575  65.2  4.0900    1  296   \n",
       "1    0.02731   0.0   7.07     0  0.469  6.421  78.9  4.9671    2  242   \n",
       "2    0.02729   0.0   7.07     0  0.469  7.185  61.1  4.9671    2  242   \n",
       "3    0.03237   0.0   2.18     0  0.458  6.998  45.8  6.0622    3  222   \n",
       "4    0.06905   0.0   2.18     0  0.458  7.147  54.2  6.0622    3  222   \n",
       "..       ...   ...    ...   ...    ...    ...   ...     ...  ...  ...   \n",
       "447  0.06263   0.0  11.93     0  0.573  6.593  69.1  2.4786    1  273   \n",
       "448  0.04527   0.0  11.93     0  0.573  6.120  76.7  2.2875    1  273   \n",
       "449  0.06076   0.0  11.93     0  0.573  6.976  91.0  2.1675    1  273   \n",
       "450  0.10959   0.0  11.93     0  0.573  6.794  89.3  2.3889    1  273   \n",
       "451  0.04741   0.0  11.93     0  0.573  6.030  80.8  2.5050    1  273   \n",
       "\n",
       "     PTRATIO       B  LSTAT  MEDV  \n",
       "0       15.3  396.90   4.98  24.0  \n",
       "1       17.8  396.90   9.14  21.6  \n",
       "2       17.8  392.83   4.03  34.7  \n",
       "3       18.7  394.63   2.94  33.4  \n",
       "4       18.7  396.90   5.33  36.2  \n",
       "..       ...     ...    ...   ...  \n",
       "447     21.0  391.99   9.67  22.4  \n",
       "448     21.0  396.90   9.08  20.6  \n",
       "449     21.0  396.90   5.64  23.9  \n",
       "450     21.0  393.45   6.48  22.0  \n",
       "451     21.0  396.90   7.88  11.9  \n",
       "\n",
       "[452 rows x 14 columns]"
      ]
     },
     "execution_count": 3,
     "metadata": {},
     "output_type": "execute_result"
    }
   ],
   "source": [
    "housing"
   ]
  },
  {
   "cell_type": "code",
   "execution_count": 4,
   "id": "77b328c6",
   "metadata": {},
   "outputs": [
    {
     "data": {
      "text/plain": [
       "<bound method DataFrame.info of         CRIM    ZN  INDUS  CHAS    NOX     RM   AGE     DIS  RAD  TAX  \\\n",
       "0    0.00632  18.0   2.31     0  0.538  6.575  65.2  4.0900    1  296   \n",
       "1    0.02731   0.0   7.07     0  0.469  6.421  78.9  4.9671    2  242   \n",
       "2    0.02729   0.0   7.07     0  0.469  7.185  61.1  4.9671    2  242   \n",
       "3    0.03237   0.0   2.18     0  0.458  6.998  45.8  6.0622    3  222   \n",
       "4    0.06905   0.0   2.18     0  0.458  7.147  54.2  6.0622    3  222   \n",
       "..       ...   ...    ...   ...    ...    ...   ...     ...  ...  ...   \n",
       "447  0.06263   0.0  11.93     0  0.573  6.593  69.1  2.4786    1  273   \n",
       "448  0.04527   0.0  11.93     0  0.573  6.120  76.7  2.2875    1  273   \n",
       "449  0.06076   0.0  11.93     0  0.573  6.976  91.0  2.1675    1  273   \n",
       "450  0.10959   0.0  11.93     0  0.573  6.794  89.3  2.3889    1  273   \n",
       "451  0.04741   0.0  11.93     0  0.573  6.030  80.8  2.5050    1  273   \n",
       "\n",
       "     PTRATIO       B  LSTAT  MEDV  \n",
       "0       15.3  396.90   4.98  24.0  \n",
       "1       17.8  396.90   9.14  21.6  \n",
       "2       17.8  392.83   4.03  34.7  \n",
       "3       18.7  394.63   2.94  33.4  \n",
       "4       18.7  396.90   5.33  36.2  \n",
       "..       ...     ...    ...   ...  \n",
       "447     21.0  391.99   9.67  22.4  \n",
       "448     21.0  396.90   9.08  20.6  \n",
       "449     21.0  396.90   5.64  23.9  \n",
       "450     21.0  393.45   6.48  22.0  \n",
       "451     21.0  396.90   7.88  11.9  \n",
       "\n",
       "[452 rows x 14 columns]>"
      ]
     },
     "execution_count": 4,
     "metadata": {},
     "output_type": "execute_result"
    }
   ],
   "source": [
    "housing.info\n"
   ]
  },
  {
   "cell_type": "code",
   "execution_count": 5,
   "id": "e80bc5c6",
   "metadata": {},
   "outputs": [
    {
     "data": {
      "text/plain": [
       "0    417\n",
       "1     35\n",
       "Name: CHAS, dtype: int64"
      ]
     },
     "execution_count": 5,
     "metadata": {},
     "output_type": "execute_result"
    }
   ],
   "source": [
    "housing['CHAS'].value_counts()"
   ]
  },
  {
   "cell_type": "code",
   "execution_count": 6,
   "id": "cc4f6283",
   "metadata": {},
   "outputs": [
    {
     "data": {
      "text/html": [
       "<div>\n",
       "<style scoped>\n",
       "    .dataframe tbody tr th:only-of-type {\n",
       "        vertical-align: middle;\n",
       "    }\n",
       "\n",
       "    .dataframe tbody tr th {\n",
       "        vertical-align: top;\n",
       "    }\n",
       "\n",
       "    .dataframe thead th {\n",
       "        text-align: right;\n",
       "    }\n",
       "</style>\n",
       "<table border=\"1\" class=\"dataframe\">\n",
       "  <thead>\n",
       "    <tr style=\"text-align: right;\">\n",
       "      <th></th>\n",
       "      <th>CRIM</th>\n",
       "      <th>ZN</th>\n",
       "      <th>INDUS</th>\n",
       "      <th>CHAS</th>\n",
       "      <th>NOX</th>\n",
       "      <th>RM</th>\n",
       "      <th>AGE</th>\n",
       "      <th>DIS</th>\n",
       "      <th>RAD</th>\n",
       "      <th>TAX</th>\n",
       "      <th>PTRATIO</th>\n",
       "      <th>B</th>\n",
       "      <th>LSTAT</th>\n",
       "      <th>MEDV</th>\n",
       "    </tr>\n",
       "  </thead>\n",
       "  <tbody>\n",
       "    <tr>\n",
       "      <th>count</th>\n",
       "      <td>452.000000</td>\n",
       "      <td>452.000000</td>\n",
       "      <td>452.000000</td>\n",
       "      <td>452.000000</td>\n",
       "      <td>452.000000</td>\n",
       "      <td>452.000000</td>\n",
       "      <td>452.000000</td>\n",
       "      <td>452.000000</td>\n",
       "      <td>452.000000</td>\n",
       "      <td>452.000000</td>\n",
       "      <td>452.000000</td>\n",
       "      <td>452.000000</td>\n",
       "      <td>452.000000</td>\n",
       "      <td>452.000000</td>\n",
       "    </tr>\n",
       "    <tr>\n",
       "      <th>mean</th>\n",
       "      <td>1.420825</td>\n",
       "      <td>12.721239</td>\n",
       "      <td>10.304889</td>\n",
       "      <td>0.077434</td>\n",
       "      <td>0.540816</td>\n",
       "      <td>6.343538</td>\n",
       "      <td>65.557965</td>\n",
       "      <td>4.043570</td>\n",
       "      <td>7.823009</td>\n",
       "      <td>377.442478</td>\n",
       "      <td>18.247124</td>\n",
       "      <td>369.826504</td>\n",
       "      <td>11.441881</td>\n",
       "      <td>23.750442</td>\n",
       "    </tr>\n",
       "    <tr>\n",
       "      <th>std</th>\n",
       "      <td>2.495896</td>\n",
       "      <td>24.326032</td>\n",
       "      <td>6.797103</td>\n",
       "      <td>0.267574</td>\n",
       "      <td>0.113816</td>\n",
       "      <td>0.666808</td>\n",
       "      <td>28.127025</td>\n",
       "      <td>2.090492</td>\n",
       "      <td>7.543494</td>\n",
       "      <td>151.327573</td>\n",
       "      <td>2.200064</td>\n",
       "      <td>68.554439</td>\n",
       "      <td>6.156437</td>\n",
       "      <td>8.808602</td>\n",
       "    </tr>\n",
       "    <tr>\n",
       "      <th>min</th>\n",
       "      <td>0.006320</td>\n",
       "      <td>0.000000</td>\n",
       "      <td>0.460000</td>\n",
       "      <td>0.000000</td>\n",
       "      <td>0.385000</td>\n",
       "      <td>3.561000</td>\n",
       "      <td>2.900000</td>\n",
       "      <td>1.129600</td>\n",
       "      <td>1.000000</td>\n",
       "      <td>187.000000</td>\n",
       "      <td>12.600000</td>\n",
       "      <td>0.320000</td>\n",
       "      <td>1.730000</td>\n",
       "      <td>6.300000</td>\n",
       "    </tr>\n",
       "    <tr>\n",
       "      <th>25%</th>\n",
       "      <td>0.069875</td>\n",
       "      <td>0.000000</td>\n",
       "      <td>4.930000</td>\n",
       "      <td>0.000000</td>\n",
       "      <td>0.447000</td>\n",
       "      <td>5.926750</td>\n",
       "      <td>40.950000</td>\n",
       "      <td>2.354750</td>\n",
       "      <td>4.000000</td>\n",
       "      <td>276.750000</td>\n",
       "      <td>16.800000</td>\n",
       "      <td>377.717500</td>\n",
       "      <td>6.587500</td>\n",
       "      <td>18.500000</td>\n",
       "    </tr>\n",
       "    <tr>\n",
       "      <th>50%</th>\n",
       "      <td>0.191030</td>\n",
       "      <td>0.000000</td>\n",
       "      <td>8.140000</td>\n",
       "      <td>0.000000</td>\n",
       "      <td>0.519000</td>\n",
       "      <td>6.229000</td>\n",
       "      <td>71.800000</td>\n",
       "      <td>3.550400</td>\n",
       "      <td>5.000000</td>\n",
       "      <td>307.000000</td>\n",
       "      <td>18.600000</td>\n",
       "      <td>392.080000</td>\n",
       "      <td>10.250000</td>\n",
       "      <td>21.950000</td>\n",
       "    </tr>\n",
       "    <tr>\n",
       "      <th>75%</th>\n",
       "      <td>1.211460</td>\n",
       "      <td>20.000000</td>\n",
       "      <td>18.100000</td>\n",
       "      <td>0.000000</td>\n",
       "      <td>0.605000</td>\n",
       "      <td>6.635000</td>\n",
       "      <td>91.625000</td>\n",
       "      <td>5.401100</td>\n",
       "      <td>7.000000</td>\n",
       "      <td>411.000000</td>\n",
       "      <td>20.200000</td>\n",
       "      <td>396.157500</td>\n",
       "      <td>15.105000</td>\n",
       "      <td>26.600000</td>\n",
       "    </tr>\n",
       "    <tr>\n",
       "      <th>max</th>\n",
       "      <td>9.966540</td>\n",
       "      <td>100.000000</td>\n",
       "      <td>27.740000</td>\n",
       "      <td>1.000000</td>\n",
       "      <td>0.871000</td>\n",
       "      <td>8.780000</td>\n",
       "      <td>100.000000</td>\n",
       "      <td>12.126500</td>\n",
       "      <td>24.000000</td>\n",
       "      <td>711.000000</td>\n",
       "      <td>22.000000</td>\n",
       "      <td>396.900000</td>\n",
       "      <td>34.410000</td>\n",
       "      <td>50.000000</td>\n",
       "    </tr>\n",
       "  </tbody>\n",
       "</table>\n",
       "</div>"
      ],
      "text/plain": [
       "             CRIM          ZN       INDUS        CHAS         NOX          RM  \\\n",
       "count  452.000000  452.000000  452.000000  452.000000  452.000000  452.000000   \n",
       "mean     1.420825   12.721239   10.304889    0.077434    0.540816    6.343538   \n",
       "std      2.495896   24.326032    6.797103    0.267574    0.113816    0.666808   \n",
       "min      0.006320    0.000000    0.460000    0.000000    0.385000    3.561000   \n",
       "25%      0.069875    0.000000    4.930000    0.000000    0.447000    5.926750   \n",
       "50%      0.191030    0.000000    8.140000    0.000000    0.519000    6.229000   \n",
       "75%      1.211460   20.000000   18.100000    0.000000    0.605000    6.635000   \n",
       "max      9.966540  100.000000   27.740000    1.000000    0.871000    8.780000   \n",
       "\n",
       "              AGE         DIS         RAD         TAX     PTRATIO           B  \\\n",
       "count  452.000000  452.000000  452.000000  452.000000  452.000000  452.000000   \n",
       "mean    65.557965    4.043570    7.823009  377.442478   18.247124  369.826504   \n",
       "std     28.127025    2.090492    7.543494  151.327573    2.200064   68.554439   \n",
       "min      2.900000    1.129600    1.000000  187.000000   12.600000    0.320000   \n",
       "25%     40.950000    2.354750    4.000000  276.750000   16.800000  377.717500   \n",
       "50%     71.800000    3.550400    5.000000  307.000000   18.600000  392.080000   \n",
       "75%     91.625000    5.401100    7.000000  411.000000   20.200000  396.157500   \n",
       "max    100.000000   12.126500   24.000000  711.000000   22.000000  396.900000   \n",
       "\n",
       "            LSTAT        MEDV  \n",
       "count  452.000000  452.000000  \n",
       "mean    11.441881   23.750442  \n",
       "std      6.156437    8.808602  \n",
       "min      1.730000    6.300000  \n",
       "25%      6.587500   18.500000  \n",
       "50%     10.250000   21.950000  \n",
       "75%     15.105000   26.600000  \n",
       "max     34.410000   50.000000  "
      ]
     },
     "execution_count": 6,
     "metadata": {},
     "output_type": "execute_result"
    }
   ],
   "source": [
    "housing.describe()"
   ]
  },
  {
   "cell_type": "code",
   "execution_count": 7,
   "id": "0fe462a4",
   "metadata": {},
   "outputs": [],
   "source": [
    "import matplotlib.pyplot as plt\n",
    "%matplotlib inline"
   ]
  },
  {
   "cell_type": "code",
   "execution_count": 8,
   "id": "5783b945",
   "metadata": {},
   "outputs": [],
   "source": [
    "# housing.hist(figsize=(20,20))\n",
    "# # plt.legend()\n",
    "# plt.show()"
   ]
  },
  {
   "cell_type": "code",
   "execution_count": 9,
   "id": "1e90cc46",
   "metadata": {},
   "outputs": [],
   "source": [
    "def splitingData(data,testRatio):\n",
    "#     print(len(data))\n",
    "    np.random.seed(42)\n",
    "    shuffeled=np.random.permutation(len(data))\n",
    "#     print(shuffeled)\n",
    "    testSet=int(len(data)*testRatio)\n",
    "    testIndices=shuffeled[:(testSet)]\n",
    "    trainIndices=shuffeled[testSet:]\n",
    "#     print(data.iloc[trainIndices])\n",
    "    return data.iloc[trainIndices],data.iloc[testIndices]"
   ]
  },
  {
   "cell_type": "code",
   "execution_count": 10,
   "id": "ae7cfcdd",
   "metadata": {},
   "outputs": [
    {
     "data": {
      "text/plain": [
       "(        CRIM    ZN  INDUS  CHAS    NOX     RM   AGE     DIS  RAD  TAX  \\\n",
       " 192  0.08664  45.0   3.44     0  0.437  7.178  26.3  6.4798    5  398   \n",
       " 24   0.75026   0.0   8.14     0  0.538  5.924  94.1  4.3996    4  307   \n",
       " 17   0.78420   0.0   8.14     0  0.538  5.990  81.7  4.2579    4  307   \n",
       " 66   0.04379  80.0   3.37     0  0.398  5.787  31.1  6.6115    4  337   \n",
       " 301  0.03537  34.0   6.09     0  0.433  6.590  40.4  5.4917    7  329   \n",
       " ..       ...   ...    ...   ...    ...    ...   ...     ...  ...  ...   \n",
       " 106  0.17120   0.0   8.56     0  0.520  5.836  91.9  2.2110    5  384   \n",
       " 270  0.29916  20.0   6.96     0  0.464  5.856  42.1  4.4290    3  223   \n",
       " 348  0.01501  80.0   2.01     0  0.435  6.635  29.7  8.3440    4  280   \n",
       " 435  0.18337   0.0  27.74     0  0.609  5.414  98.3  1.7554    4  711   \n",
       " 102  0.22876   0.0   8.56     0  0.520  6.405  85.4  2.7147    5  384   \n",
       " \n",
       "      PTRATIO       B  LSTAT  MEDV  \n",
       " 192     15.2  390.49   2.87  36.4  \n",
       " 24      21.0  394.33  16.30  15.6  \n",
       " 17      21.0  386.75  14.67  17.5  \n",
       " 66      16.1  396.90  10.24  19.4  \n",
       " 301     16.1  395.75   9.50  22.0  \n",
       " ..       ...     ...    ...   ...  \n",
       " 106     20.9  395.67  18.66  19.5  \n",
       " 270     18.6  388.65  13.00  21.1  \n",
       " 348     17.0  390.94   5.99  24.5  \n",
       " 435     20.1  344.05  23.97   7.0  \n",
       " 102     20.9   70.80  10.63  18.6  \n",
       " \n",
       " [362 rows x 14 columns],\n",
       "         CRIM     ZN  INDUS  CHAS     NOX     RM   AGE     DIS  RAD  TAX  \\\n",
       " 299  0.05561   70.0   2.24     0  0.4000  7.041  10.0  7.8278    5  358   \n",
       " 39   0.02763   75.0   2.95     0  0.4280  6.595  21.8  5.4011    3  252   \n",
       " 336  0.03427    0.0   5.19     0  0.5150  5.869  46.3  5.2311    5  224   \n",
       " 332  0.03466   35.0   6.06     0  0.4379  6.031  23.3  6.6407    1  304   \n",
       " 153  2.14918    0.0  19.58     0  0.8710  5.709  98.5  1.6232    5  403   \n",
       " ..       ...    ...    ...   ...     ...    ...   ...     ...  ...  ...   \n",
       " 437  0.10574    0.0  27.74     0  0.6090  5.983  98.8  1.8681    4  711   \n",
       " 447  0.06263    0.0  11.93     0  0.5730  6.593  69.1  2.4786    1  273   \n",
       " 137  0.35233    0.0  21.89     0  0.6240  6.454  98.4  1.8498    4  437   \n",
       " 93   0.02875   28.0  15.04     0  0.4640  6.211  28.9  3.6659    4  270   \n",
       " 57   0.01432  100.0   1.32     0  0.4110  6.816  40.5  8.3248    5  256   \n",
       " \n",
       "      PTRATIO       B  LSTAT  MEDV  \n",
       " 299     14.8  371.58   4.74  29.0  \n",
       " 39      18.3  395.63   4.32  30.8  \n",
       " 336     20.2  396.90   9.80  19.5  \n",
       " 332     16.9  362.25   7.83  19.4  \n",
       " 153     14.7  261.95  15.79  19.4  \n",
       " ..       ...     ...    ...   ...  \n",
       " 437     20.1  390.11  18.07  13.6  \n",
       " 447     21.0  391.99   9.67  22.4  \n",
       " 137     21.2  394.08  14.59  17.1  \n",
       " 93      18.2  396.33   6.21  25.0  \n",
       " 57      15.1  392.90   3.95  31.6  \n",
       " \n",
       " [90 rows x 14 columns])"
      ]
     },
     "execution_count": 10,
     "metadata": {},
     "output_type": "execute_result"
    }
   ],
   "source": [
    "trainSet,testSet=splitingData(housing,0.2)\n",
    "trainSet,testSet"
   ]
  },
  {
   "cell_type": "markdown",
   "id": "2eb937fe",
   "metadata": {},
   "source": [
    "# #above function is already written by sklearn\n"
   ]
  },
  {
   "cell_type": "code",
   "execution_count": 11,
   "id": "dbe67ba8",
   "metadata": {},
   "outputs": [
    {
     "data": {
      "text/plain": [
       "(        CRIM    ZN  INDUS  CHAS     NOX     RM   AGE     DIS  RAD  TAX  \\\n",
       " 68   0.13554  12.5   6.07     0  0.4090  5.594  36.8  6.4980    4  345   \n",
       " 231  0.46296   0.0   6.20     0  0.5040  7.412  76.9  3.6715    8  307   \n",
       " 11   0.11747  12.5   7.87     0  0.5240  6.009  82.9  6.2267    5  311   \n",
       " 38   0.17505   0.0   5.96     0  0.4990  5.966  30.2  3.8473    5  279   \n",
       " 280  0.03578  20.0   3.33     0  0.4429  7.820  64.5  4.6947    5  216   \n",
       " ..       ...   ...    ...   ...     ...    ...   ...     ...  ...  ...   \n",
       " 393  9.39063   0.0  18.10     0  0.7400  5.627  93.9  1.8172   24  666   \n",
       " 113  0.22212   0.0  10.01     0  0.5470  6.092  95.4  2.5480    6  432   \n",
       " 390  8.49213   0.0  18.10     0  0.5840  6.348  86.1  2.0527   24  666   \n",
       " 299  0.05561  70.0   2.24     0  0.4000  7.041  10.0  7.8278    5  358   \n",
       " 260  0.54011  20.0   3.97     0  0.6470  7.203  81.8  2.1121    5  264   \n",
       " \n",
       "      PTRATIO       B  LSTAT  MEDV  \n",
       " 68      18.9  396.90  13.09  17.4  \n",
       " 231     17.4  376.14   5.25  31.7  \n",
       " 11      15.2  396.90  13.27  18.9  \n",
       " 38      19.2  393.43  10.13  24.7  \n",
       " 280     14.9  387.31   3.76  45.4  \n",
       " ..       ...     ...    ...   ...  \n",
       " 393     20.2  396.90  22.88  12.8  \n",
       " 113     17.8  396.90  17.09  18.7  \n",
       " 390     20.2   83.45  17.64  14.5  \n",
       " 299     14.8  371.58   4.74  29.0  \n",
       " 260     13.0  392.80   9.59  33.8  \n",
       " \n",
       " [361 rows x 14 columns],\n",
       "         CRIM    ZN  INDUS  CHAS    NOX     RM   AGE     DIS  RAD  TAX  \\\n",
       " 435  0.18337   0.0  27.74     0  0.609  5.414  98.3  1.7554    4  711   \n",
       " 213  0.14052   0.0  10.59     0  0.489  6.375  32.3  3.9454    4  277   \n",
       " 380  5.87205   0.0  18.10     0  0.693  6.405  96.0  1.6768   24  666   \n",
       " 221  0.40771   0.0   6.20     1  0.507  6.164  91.3  3.0480    8  307   \n",
       " 54   0.01360  75.0   4.00     0  0.410  5.888  47.6  7.3197    3  469   \n",
       " ..       ...   ...    ...   ...    ...    ...   ...     ...  ...  ...   \n",
       " 53   0.04981  21.0   5.64     0  0.439  5.998  21.4  6.8147    4  243   \n",
       " 176  0.07022   0.0   4.05     0  0.510  6.020  47.2  3.5549    5  296   \n",
       " 198  0.03768  80.0   1.52     0  0.404  7.274  38.3  7.3090    2  329   \n",
       " 194  0.01439  60.0   2.93     0  0.401  6.604  18.8  6.2196    1  265   \n",
       " 13   0.62976   0.0   8.14     0  0.538  5.949  61.8  4.7075    4  307   \n",
       " \n",
       "      PTRATIO       B  LSTAT  MEDV  \n",
       " 435     20.1  344.05  23.97   7.0  \n",
       " 213     18.6  385.81   9.38  28.1  \n",
       " 380     20.2  396.90  19.37  12.5  \n",
       " 221     17.4  395.24  21.46  21.7  \n",
       " 54      21.1  396.90  14.80  18.9  \n",
       " ..       ...     ...    ...   ...  \n",
       " 53      16.8  396.90   8.43  23.4  \n",
       " 176     16.6  393.23  10.11  23.2  \n",
       " 198     12.6  392.20   6.62  34.6  \n",
       " 194     15.6  376.70   4.38  29.1  \n",
       " 13      21.0  396.90   8.26  20.4  \n",
       " \n",
       " [91 rows x 14 columns])"
      ]
     },
     "execution_count": 11,
     "metadata": {},
     "output_type": "execute_result"
    }
   ],
   "source": [
    "from sklearn.model_selection import train_test_split\n",
    "trainSet,testSet=train_test_split(housing,test_size=0.2,random_state=42,stratify=housing[('CHAS')])\n",
    "trainSet,testSet"
   ]
  },
  {
   "cell_type": "markdown",
   "id": "c9b349b8",
   "metadata": {},
   "source": [
    "# #hear if 'chas' feature is not equally divide in test and train(train=0 only,now test also give 0 that is false its 1)\n"
   ]
  },
  {
   "cell_type": "code",
   "execution_count": 12,
   "id": "2be94d69",
   "metadata": {},
   "outputs": [
    {
     "data": {
      "text/plain": [
       "MEDV       1.000000\n",
       "RM         0.740181\n",
       "ZN         0.331570\n",
       "B          0.264797\n",
       "CHAS       0.154409\n",
       "DIS        0.138798\n",
       "RAD       -0.217902\n",
       "CRIM      -0.286245\n",
       "AGE       -0.299893\n",
       "NOX       -0.332778\n",
       "TAX       -0.345898\n",
       "INDUS     -0.411915\n",
       "PTRATIO   -0.461214\n",
       "LSTAT     -0.706255\n",
       "Name: MEDV, dtype: float64"
      ]
     },
     "execution_count": 12,
     "metadata": {},
     "output_type": "execute_result"
    }
   ],
   "source": [
    "corr_metrix=housing.corr()\n",
    "corr_metrix['MEDV'].sort_values(ascending=False)"
   ]
  },
  {
   "cell_type": "code",
   "execution_count": 13,
   "id": "a8b96d28",
   "metadata": {},
   "outputs": [
    {
     "name": "stderr",
     "output_type": "stream",
     "text": [
      "/home/aman/.local/lib/python3.8/site-packages/pandas/plotting/_matplotlib/tools.py:400: MatplotlibDeprecationWarning: \n",
      "The is_first_col function was deprecated in Matplotlib 3.4 and will be removed two minor releases later. Use ax.get_subplotspec().is_first_col() instead.\n",
      "  if ax.is_first_col():\n"
     ]
    },
    {
     "data": {
      "text/plain": [
       "array([[<AxesSubplot:xlabel='MEDV', ylabel='MEDV'>,\n",
       "        <AxesSubplot:xlabel='RM', ylabel='MEDV'>,\n",
       "        <AxesSubplot:xlabel='PTRATIO', ylabel='MEDV'>,\n",
       "        <AxesSubplot:xlabel='LSTAT', ylabel='MEDV'>],\n",
       "       [<AxesSubplot:xlabel='MEDV', ylabel='RM'>,\n",
       "        <AxesSubplot:xlabel='RM', ylabel='RM'>,\n",
       "        <AxesSubplot:xlabel='PTRATIO', ylabel='RM'>,\n",
       "        <AxesSubplot:xlabel='LSTAT', ylabel='RM'>],\n",
       "       [<AxesSubplot:xlabel='MEDV', ylabel='PTRATIO'>,\n",
       "        <AxesSubplot:xlabel='RM', ylabel='PTRATIO'>,\n",
       "        <AxesSubplot:xlabel='PTRATIO', ylabel='PTRATIO'>,\n",
       "        <AxesSubplot:xlabel='LSTAT', ylabel='PTRATIO'>],\n",
       "       [<AxesSubplot:xlabel='MEDV', ylabel='LSTAT'>,\n",
       "        <AxesSubplot:xlabel='RM', ylabel='LSTAT'>,\n",
       "        <AxesSubplot:xlabel='PTRATIO', ylabel='LSTAT'>,\n",
       "        <AxesSubplot:xlabel='LSTAT', ylabel='LSTAT'>]], dtype=object)"
      ]
     },
     "execution_count": 13,
     "metadata": {},
     "output_type": "execute_result"
    },
    {
     "data": {
      "image/png": "[encoded data removed]",
      "text/plain": [
       "<Figure size 864x576 with 16 Axes>"
      ]
     },
     "metadata": {
      "needs_background": "light"
     },
     "output_type": "display_data"
    }
   ],
   "source": [
    "from pandas.plotting import scatter_matrix\n",
    "attributes=['MEDV','RM','PTRATIO','LSTAT']\n",
    "scatter_matrix(housing[attributes],figsize=(12,8))"
   ]
  },
  {
   "cell_type": "code",
   "execution_count": 14,
   "id": "7a942d11",
   "metadata": {},
   "outputs": [
    {
     "data": {
      "text/plain": [
       "<AxesSubplot:xlabel='LSTAT', ylabel='MEDV'>"
      ]
     },
     "execution_count": 14,
     "metadata": {},
     "output_type": "execute_result"
    },
    {
     "data": {
      "image/png": "[encoded data removed]",
      "text/plain": [
       "<Figure size 432x288 with 1 Axes>"
      ]
     },
     "metadata": {
      "needs_background": "light"
     },
     "output_type": "display_data"
    }
   ],
   "source": [
    "housing.plot(kind='scatter',y='MEDV',x='LSTAT',alpha=0.8)"
   ]
  },
  {
   "cell_type": "code",
   "execution_count": 15,
   "id": "edc3e1b5",
   "metadata": {
    "scrolled": false
   },
   "outputs": [
    {
     "data": {
      "text/plain": [
       "68     17.4\n",
       "231    31.7\n",
       "11     18.9\n",
       "38     24.7\n",
       "280    45.4\n",
       "       ... \n",
       "393    12.8\n",
       "113    18.7\n",
       "390    14.5\n",
       "299    29.0\n",
       "260    33.8\n",
       "Name: MEDV, Length: 361, dtype: float64"
      ]
     },
     "execution_count": 15,
     "metadata": {},
     "output_type": "execute_result"
    }
   ],
   "source": [
    "housing=trainSet.drop('MEDV',axis=1)\n",
    "housing_labels=trainSet[\"MEDV\"].copy()\n",
    "housing_labels\n"
   ]
  },
  {
   "cell_type": "code",
   "execution_count": 16,
   "id": "ff3dacf2",
   "metadata": {},
   "outputs": [
    {
     "data": {
      "text/plain": [
       "(361, 13)"
      ]
     },
     "execution_count": 16,
     "metadata": {},
     "output_type": "execute_result"
    }
   ],
   "source": [
    "a=housing.dropna(subset=[\"RM\"])\n",
    "a.shape\n",
    "#################this will drop data if any set is null or missing"
   ]
  },
  {
   "cell_type": "code",
   "execution_count": 17,
   "id": "9e279ab0",
   "metadata": {},
   "outputs": [
    {
     "data": {
      "text/html": [
       "<div>\n",
       "<style scoped>\n",
       "    .dataframe tbody tr th:only-of-type {\n",
       "        vertical-align: middle;\n",
       "    }\n",
       "\n",
       "    .dataframe tbody tr th {\n",
       "        vertical-align: top;\n",
       "    }\n",
       "\n",
       "    .dataframe thead th {\n",
       "        text-align: right;\n",
       "    }\n",
       "</style>\n",
       "<table border=\"1\" class=\"dataframe\">\n",
       "  <thead>\n",
       "    <tr style=\"text-align: right;\">\n",
       "      <th></th>\n",
       "      <th>CRIM</th>\n",
       "      <th>ZN</th>\n",
       "      <th>INDUS</th>\n",
       "      <th>CHAS</th>\n",
       "      <th>NOX</th>\n",
       "      <th>AGE</th>\n",
       "      <th>DIS</th>\n",
       "      <th>RAD</th>\n",
       "      <th>TAX</th>\n",
       "      <th>PTRATIO</th>\n",
       "      <th>B</th>\n",
       "      <th>LSTAT</th>\n",
       "    </tr>\n",
       "  </thead>\n",
       "  <tbody>\n",
       "    <tr>\n",
       "      <th>68</th>\n",
       "      <td>0.13554</td>\n",
       "      <td>12.5</td>\n",
       "      <td>6.07</td>\n",
       "      <td>0</td>\n",
       "      <td>0.4090</td>\n",
       "      <td>36.8</td>\n",
       "      <td>6.4980</td>\n",
       "      <td>4</td>\n",
       "      <td>345</td>\n",
       "      <td>18.9</td>\n",
       "      <td>396.90</td>\n",
       "      <td>13.09</td>\n",
       "    </tr>\n",
       "    <tr>\n",
       "      <th>231</th>\n",
       "      <td>0.46296</td>\n",
       "      <td>0.0</td>\n",
       "      <td>6.20</td>\n",
       "      <td>0</td>\n",
       "      <td>0.5040</td>\n",
       "      <td>76.9</td>\n",
       "      <td>3.6715</td>\n",
       "      <td>8</td>\n",
       "      <td>307</td>\n",
       "      <td>17.4</td>\n",
       "      <td>376.14</td>\n",
       "      <td>5.25</td>\n",
       "    </tr>\n",
       "    <tr>\n",
       "      <th>11</th>\n",
       "      <td>0.11747</td>\n",
       "      <td>12.5</td>\n",
       "      <td>7.87</td>\n",
       "      <td>0</td>\n",
       "      <td>0.5240</td>\n",
       "      <td>82.9</td>\n",
       "      <td>6.2267</td>\n",
       "      <td>5</td>\n",
       "      <td>311</td>\n",
       "      <td>15.2</td>\n",
       "      <td>396.90</td>\n",
       "      <td>13.27</td>\n",
       "    </tr>\n",
       "    <tr>\n",
       "      <th>38</th>\n",
       "      <td>0.17505</td>\n",
       "      <td>0.0</td>\n",
       "      <td>5.96</td>\n",
       "      <td>0</td>\n",
       "      <td>0.4990</td>\n",
       "      <td>30.2</td>\n",
       "      <td>3.8473</td>\n",
       "      <td>5</td>\n",
       "      <td>279</td>\n",
       "      <td>19.2</td>\n",
       "      <td>393.43</td>\n",
       "      <td>10.13</td>\n",
       "    </tr>\n",
       "    <tr>\n",
       "      <th>280</th>\n",
       "      <td>0.03578</td>\n",
       "      <td>20.0</td>\n",
       "      <td>3.33</td>\n",
       "      <td>0</td>\n",
       "      <td>0.4429</td>\n",
       "      <td>64.5</td>\n",
       "      <td>4.6947</td>\n",
       "      <td>5</td>\n",
       "      <td>216</td>\n",
       "      <td>14.9</td>\n",
       "      <td>387.31</td>\n",
       "      <td>3.76</td>\n",
       "    </tr>\n",
       "    <tr>\n",
       "      <th>...</th>\n",
       "      <td>...</td>\n",
       "      <td>...</td>\n",
       "      <td>...</td>\n",
       "      <td>...</td>\n",
       "      <td>...</td>\n",
       "      <td>...</td>\n",
       "      <td>...</td>\n",
       "      <td>...</td>\n",
       "      <td>...</td>\n",
       "      <td>...</td>\n",
       "      <td>...</td>\n",
       "      <td>...</td>\n",
       "    </tr>\n",
       "    <tr>\n",
       "      <th>393</th>\n",
       "      <td>9.39063</td>\n",
       "      <td>0.0</td>\n",
       "      <td>18.10</td>\n",
       "      <td>0</td>\n",
       "      <td>0.7400</td>\n",
       "      <td>93.9</td>\n",
       "      <td>1.8172</td>\n",
       "      <td>24</td>\n",
       "      <td>666</td>\n",
       "      <td>20.2</td>\n",
       "      <td>396.90</td>\n",
       "      <td>22.88</td>\n",
       "    </tr>\n",
       "    <tr>\n",
       "      <th>113</th>\n",
       "      <td>0.22212</td>\n",
       "      <td>0.0</td>\n",
       "      <td>10.01</td>\n",
       "      <td>0</td>\n",
       "      <td>0.5470</td>\n",
       "      <td>95.4</td>\n",
       "      <td>2.5480</td>\n",
       "      <td>6</td>\n",
       "      <td>432</td>\n",
       "      <td>17.8</td>\n",
       "      <td>396.90</td>\n",
       "      <td>17.09</td>\n",
       "    </tr>\n",
       "    <tr>\n",
       "      <th>390</th>\n",
       "      <td>8.49213</td>\n",
       "      <td>0.0</td>\n",
       "      <td>18.10</td>\n",
       "      <td>0</td>\n",
       "      <td>0.5840</td>\n",
       "      <td>86.1</td>\n",
       "      <td>2.0527</td>\n",
       "      <td>24</td>\n",
       "      <td>666</td>\n",
       "      <td>20.2</td>\n",
       "      <td>83.45</td>\n",
       "      <td>17.64</td>\n",
       "    </tr>\n",
       "    <tr>\n",
       "      <th>299</th>\n",
       "      <td>0.05561</td>\n",
       "      <td>70.0</td>\n",
       "      <td>2.24</td>\n",
       "      <td>0</td>\n",
       "      <td>0.4000</td>\n",
       "      <td>10.0</td>\n",
       "      <td>7.8278</td>\n",
       "      <td>5</td>\n",
       "      <td>358</td>\n",
       "      <td>14.8</td>\n",
       "      <td>371.58</td>\n",
       "      <td>4.74</td>\n",
       "    </tr>\n",
       "    <tr>\n",
       "      <th>260</th>\n",
       "      <td>0.54011</td>\n",
       "      <td>20.0</td>\n",
       "      <td>3.97</td>\n",
       "      <td>0</td>\n",
       "      <td>0.6470</td>\n",
       "      <td>81.8</td>\n",
       "      <td>2.1121</td>\n",
       "      <td>5</td>\n",
       "      <td>264</td>\n",
       "      <td>13.0</td>\n",
       "      <td>392.80</td>\n",
       "      <td>9.59</td>\n",
       "    </tr>\n",
       "  </tbody>\n",
       "</table>\n",
       "<p>361 rows × 12 columns</p>\n",
       "</div>"
      ],
      "text/plain": [
       "        CRIM    ZN  INDUS  CHAS     NOX   AGE     DIS  RAD  TAX  PTRATIO  \\\n",
       "68   0.13554  12.5   6.07     0  0.4090  36.8  6.4980    4  345     18.9   \n",
       "231  0.46296   0.0   6.20     0  0.5040  76.9  3.6715    8  307     17.4   \n",
       "11   0.11747  12.5   7.87     0  0.5240  82.9  6.2267    5  311     15.2   \n",
       "38   0.17505   0.0   5.96     0  0.4990  30.2  3.8473    5  279     19.2   \n",
       "280  0.03578  20.0   3.33     0  0.4429  64.5  4.6947    5  216     14.9   \n",
       "..       ...   ...    ...   ...     ...   ...     ...  ...  ...      ...   \n",
       "393  9.39063   0.0  18.10     0  0.7400  93.9  1.8172   24  666     20.2   \n",
       "113  0.22212   0.0  10.01     0  0.5470  95.4  2.5480    6  432     17.8   \n",
       "390  8.49213   0.0  18.10     0  0.5840  86.1  2.0527   24  666     20.2   \n",
       "299  0.05561  70.0   2.24     0  0.4000  10.0  7.8278    5  358     14.8   \n",
       "260  0.54011  20.0   3.97     0  0.6470  81.8  2.1121    5  264     13.0   \n",
       "\n",
       "          B  LSTAT  \n",
       "68   396.90  13.09  \n",
       "231  376.14   5.25  \n",
       "11   396.90  13.27  \n",
       "38   393.43  10.13  \n",
       "280  387.31   3.76  \n",
       "..      ...    ...  \n",
       "393  396.90  22.88  \n",
       "113  396.90  17.09  \n",
       "390   83.45  17.64  \n",
       "299  371.58   4.74  \n",
       "260  392.80   9.59  \n",
       "\n",
       "[361 rows x 12 columns]"
      ]
     },
     "execution_count": 17,
     "metadata": {},
     "output_type": "execute_result"
    }
   ],
   "source": [
    "housing.drop(\"RM\",axis=1)#####Rm will droped"
   ]
  },
  {
   "cell_type": "code",
   "execution_count": 18,
   "id": "d898e312",
   "metadata": {},
   "outputs": [
    {
     "data": {
      "text/plain": [
       "68     5.594\n",
       "231    7.412\n",
       "11     6.009\n",
       "38     5.966\n",
       "280    7.820\n",
       "       ...  \n",
       "393    5.627\n",
       "113    6.092\n",
       "390    6.348\n",
       "299    7.041\n",
       "260    7.203\n",
       "Name: RM, Length: 361, dtype: float64"
      ]
     },
     "execution_count": 18,
     "metadata": {},
     "output_type": "execute_result"
    }
   ],
   "source": [
    "median=housing['RM'].median()\n",
    "housing['RM'].fillna(median)"
   ]
  },
  {
   "cell_type": "code",
   "execution_count": 19,
   "id": "8e26e7c2",
   "metadata": {},
   "outputs": [
    {
     "name": "stdout",
     "output_type": "stream",
     "text": [
      "jnnjknjkn=== SimpleImputer(strategy='median')\n"
     ]
    }
   ],
   "source": [
    "from sklearn.impute import SimpleImputer\n",
    "imputer = SimpleImputer(strategy='median')#missing_values=np.nan,\n",
    "imputer.fit(housing)\n",
    "print(\"jnnjknjkn===\",imputer)"
   ]
  },
  {
   "cell_type": "code",
   "execution_count": 20,
   "id": "546cf7ec",
   "metadata": {},
   "outputs": [
    {
     "data": {
      "text/plain": [
       "array([2.0746e-01, 0.0000e+00, 8.1400e+00, 0.0000e+00, 5.2400e-01,\n",
       "       6.2190e+00, 7.3100e+01, 3.4952e+00, 5.0000e+00, 3.1100e+02,\n",
       "       1.8600e+01, 3.9183e+02, 1.0450e+01])"
      ]
     },
     "execution_count": 20,
     "metadata": {},
     "output_type": "execute_result"
    }
   ],
   "source": [
    "imputer.statistics_ "
   ]
  },
  {
   "cell_type": "code",
   "execution_count": 21,
   "id": "47751ca5",
   "metadata": {},
   "outputs": [],
   "source": [
    "x=imputer.transform(housing)\n",
    "housingTr=pd.DataFrame(x,columns=housing.columns)"
   ]
  },
  {
   "cell_type": "markdown",
   "id": "48077160",
   "metadata": {},
   "source": [
    "CREATING PIPLINE\n"
   ]
  },
  {
   "cell_type": "code",
   "execution_count": 22,
   "id": "d3587ff6",
   "metadata": {},
   "outputs": [],
   "source": [
    "from sklearn.pipeline import Pipeline\n",
    "from sklearn.preprocessing import StandardScaler\n"
   ]
  },
  {
   "cell_type": "code",
   "execution_count": 23,
   "id": "3d569e2d",
   "metadata": {},
   "outputs": [],
   "source": [
    "my_pipeline=Pipeline([\n",
    "    (\"imputer\",SimpleImputer(strategy=\"median\")),\n",
    "    (\"std_scale\",StandardScaler()),\n",
    "    ])\n",
    "housing_num_tr=my_pipeline.fit_transform(housingTr)"
   ]
  },
  {
   "cell_type": "code",
   "execution_count": 24,
   "id": "70011680",
   "metadata": {
    "scrolled": true
   },
   "outputs": [
    {
     "data": {
      "text/plain": [
       "68     17.4\n",
       "231    31.7\n",
       "11     18.9\n",
       "38     24.7\n",
       "280    45.4\n",
       "       ... \n",
       "393    12.8\n",
       "113    18.7\n",
       "390    14.5\n",
       "299    29.0\n",
       "260    33.8\n",
       "Name: MEDV, Length: 361, dtype: float64"
      ]
     },
     "execution_count": 24,
     "metadata": {},
     "output_type": "execute_result"
    }
   ],
   "source": [
    "housing_num_tr.shape\n",
    "# housing_num_tr\n",
    "housing_labels"
   ]
  },
  {
   "cell_type": "code",
   "execution_count": 25,
   "id": "0e320cdb",
   "metadata": {},
   "outputs": [
    {
     "data": {
      "text/plain": [
       "RandomForestRegressor()"
      ]
     },
     "execution_count": 25,
     "metadata": {},
     "output_type": "execute_result"
    }
   ],
   "source": [
    "from sklearn.linear_model import LinearRegression\n",
    "from sklearn.tree import DecisionTreeRegressor\n",
    "from sklearn.ensemble import RandomForestRegressor\n",
    "# model=DecisionTreeRegressor()\n",
    "# model=LinearRegression()\n",
    "model=RandomForestRegressor()\n",
    "model.fit(housing_num_tr,housing_labels)"
   ]
  },
  {
   "cell_type": "code",
   "execution_count": 26,
   "id": "3c71e2a8",
   "metadata": {},
   "outputs": [
    {
     "data": {
      "text/plain": [
       "Index(['CRIM', 'ZN', 'INDUS', 'CHAS', 'NOX', 'RM', 'AGE', 'DIS', 'RAD', 'TAX',\n",
       "       'PTRATIO', 'B', 'LSTAT'],\n",
       "      dtype='object')"
      ]
     },
     "execution_count": 26,
     "metadata": {},
     "output_type": "execute_result"
    }
   ],
   "source": [
    "some_data=housing.iloc[:5]\n",
    "some_labels=housing_labels.iloc[:5]\n",
    "housing.columns"
   ]
  },
  {
   "cell_type": "code",
   "execution_count": 27,
   "id": "8d837317",
   "metadata": {},
   "outputs": [
    {
     "data": {
      "text/plain": [
       "array([18.386, 32.88 , 19.653, 22.914, 46.192])"
      ]
     },
     "execution_count": 27,
     "metadata": {},
     "output_type": "execute_result"
    }
   ],
   "source": [
    "\n",
    "pred_data=my_pipeline.transform(some_data)\n",
    "housing_pred=model.predict(pred_data)\n",
    "housing_pred"
   ]
  },
  {
   "cell_type": "code",
   "execution_count": 28,
   "id": "46005d05",
   "metadata": {},
   "outputs": [
    {
     "data": {
      "text/plain": [
       "[17.4, 31.7, 18.9, 24.7, 45.4]"
      ]
     },
     "execution_count": 28,
     "metadata": {},
     "output_type": "execute_result"
    }
   ],
   "source": [
    "list(some_labels)"
   ]
  },
  {
   "cell_type": "code",
   "execution_count": 29,
   "id": "082d5bc9",
   "metadata": {},
   "outputs": [
    {
     "data": {
      "text/plain": [
       "1.3497329999999947"
      ]
     },
     "execution_count": 29,
     "metadata": {},
     "output_type": "execute_result"
    }
   ],
   "source": [
    "from sklearn.metrics import mean_squared_error\n",
    "mse=mean_squared_error(some_labels,housing_pred)\n",
    "rmse=np.sqrt(mse)\n",
    "mse\n"
   ]
  },
  {
   "cell_type": "code",
   "execution_count": 30,
   "id": "3c71f386",
   "metadata": {},
   "outputs": [
    {
     "data": {
      "text/plain": [
       "1.1617800996746306"
      ]
     },
     "execution_count": 30,
     "metadata": {},
     "output_type": "execute_result"
    }
   ],
   "source": [
    "rmse"
   ]
  },
  {
   "cell_type": "markdown",
   "id": "9986ec34",
   "metadata": {},
   "source": [
    "This is over fitting"
   ]
  },
  {
   "cell_type": "code",
   "execution_count": 31,
   "id": "60d3dc7d",
   "metadata": {},
   "outputs": [],
   "source": [
    "from sklearn.model_selection import cross_val_score\n",
    "scores=cross_val_score(model,housing_num_tr,housing_labels,scoring=\"neg_mean_squared_error\",cv=10)\n",
    "rmse_scores= np.sqrt(-scores)"
   ]
  },
  {
   "cell_type": "code",
   "execution_count": 32,
   "id": "5a93a688",
   "metadata": {},
   "outputs": [
    {
     "data": {
      "text/plain": [
       "array([3.00513048, 2.59181258, 3.62121198, 2.72904602, 2.99608235,\n",
       "       3.78560629, 2.63470333, 4.27682886, 3.35735612, 2.04300714])"
      ]
     },
     "execution_count": 32,
     "metadata": {},
     "output_type": "execute_result"
    }
   ],
   "source": [
    "rmse_scores"
   ]
  },
  {
   "cell_type": "markdown",
   "id": "85f717a1",
   "metadata": {},
   "source": [
    "# saving the model\n"
   ]
  },
  {
   "cell_type": "code",
   "execution_count": 33,
   "id": "13a234ca",
   "metadata": {},
   "outputs": [
    {
     "data": {
      "text/plain": [
       "['Dragon.joblib']"
      ]
     },
     "execution_count": 33,
     "metadata": {},
     "output_type": "execute_result"
    }
   ],
   "source": [
    "from joblib import dump,load\n",
    "dump(model,\"Dragon.joblib\")"
   ]
  },
  {
   "cell_type": "markdown",
   "id": "0eea1152",
   "metadata": {},
   "source": [
    "# #final testing]\n"
   ]
  },
  {
   "cell_type": "code",
   "execution_count": 34,
   "id": "a623171a",
   "metadata": {},
   "outputs": [
    {
     "name": "stdout",
     "output_type": "stream",
     "text": [
      "[13.111 24.347 14.967 18.859 19.36  33.464 19.388 20.768 21.159 44.668\n",
      " 31.789 15.022 33.126 19.884 27.107 31.174 20.445 21.962 22.848 35.338\n",
      " 22.368 11.6   23.522 21.451 23.393 24.498 24.662 20.498 20.828 44.46\n",
      " 14.187 31.162 15.829 25.015 44.943 33.02  19.563 19.861 19.579 19.22\n",
      " 25.675 20.725 18.914 19.521 18.649 15.696 43.474 14.553 18.332 24.93\n",
      " 26.856 19.433 32.568 18.319 16.481 31.716 23.356 29.427 21.81  20.05\n",
      " 14.368 23.009 47.397 23.793 19.733 34.208 23.833 33.656 24.954 22.91\n",
      " 11.211 15.367 31.339 31.714 20.7   20.683 25.12  41.522 13.635 42.686\n",
      " 26.258 15.167 18.874 21.078 21.053 19.79  20.768 21.598 33.684 28.521\n",
      " 20.746]\n",
      "\n",
      "    [7.0, 28.1, 12.5, 21.7, 18.9, 33.2, 19.5, 11.9, 21.7, 43.1, 32.2, 15.6, 33.1, 20.9, 24.4, 32.4, 21.1, 20.6, 22.2, 37.3, 19.8, 12.1, 25.0, 20.4, 21.6, 24.7, 16.5, 19.6, 20.3, 41.7, 13.1, 31.0, 13.8, 27.1, 46.0, 28.5, 19.2, 18.7, 17.5, 19.5, 29.0, 24.3, 19.7, 23.8, 19.6, 12.7, 50.0, 13.5, 14.4, 30.1, 25.0, 21.5, 31.5, 19.5, 19.4, 30.3, 23.3, 24.8, 22.2, 19.9, 13.6, 23.6, 50.0, 20.1, 18.6, 33.3, 23.8, 32.0, 36.2, 22.0, 12.3, 12.6, 23.9, 23.6, 19.7, 23.8, 27.0, 44.0, 17.1, 21.9, 28.0, 17.8, 17.2, 20.3, 21.4, 19.4, 23.4, 23.2, 34.6, 29.1, 20.4]\n"
     ]
    }
   ],
   "source": [
    "xTest=testSet.drop('MEDV',axis=1)\n",
    "yTest=testSet['MEDV'].copy()\n",
    "X_prepared=my_pipeline.transform(xTest)\n",
    "finalPredction=model.predict(X_prepared)\n",
    "final_mse=mean_squared_error(yTest,finalPredction)\n",
    "final_rmse=np.sqrt(final_mse)\n",
    "print(finalPredction)\n",
    "print(\"\\n   \",list(yTest))"
   ]
  },
  {
   "cell_type": "code",
   "execution_count": 35,
   "id": "f5c379a9",
   "metadata": {},
   "outputs": [
    {
     "data": {
      "text/plain": [
       "3.6963198909542068"
      ]
     },
     "execution_count": 35,
     "metadata": {},
     "output_type": "execute_result"
    }
   ],
   "source": [
    "final_rmse"
   ]
  },
  {
   "cell_type": "code",
   "execution_count": 36,
   "id": "a476980b",
   "metadata": {},
   "outputs": [
    {
     "data": {
      "text/plain": [
       "13.66278073626372"
      ]
     },
     "execution_count": 36,
     "metadata": {},
     "output_type": "execute_result"
    }
   ],
   "source": [
    "final_mse\n"
   ]
  },
  {
   "cell_type": "code",
   "execution_count": 37,
   "id": "27ec2595",
   "metadata": {},
   "outputs": [
    {
     "data": {
      "text/plain": [
       "array([-0.53010046,  0.02099025, -0.66033355, -0.28997256, -1.18431286,\n",
       "       -1.10275785, -1.03091974,  1.20484991, -0.52498507, -0.2399869 ,\n",
       "        0.29292564,  0.39425368,  0.23912392])"
      ]
     },
     "execution_count": 37,
     "metadata": {},
     "output_type": "execute_result"
    }
   ],
   "source": [
    "pred_data[0]"
   ]
  },
  {
   "cell_type": "markdown",
   "id": "028ea0b3",
   "metadata": {},
   "source": [
    "# #final run"
   ]
  },
  {
   "cell_type": "code",
   "execution_count": 38,
   "id": "be6d8c35",
   "metadata": {},
   "outputs": [
    {
     "data": {
      "text/plain": [
       "array([18.386])"
      ]
     },
     "execution_count": 38,
     "metadata": {},
     "output_type": "execute_result"
    }
   ],
   "source": [
    "from joblib import load\n",
    "import numpy as np\n",
    "model=load(\"Dragon.joblib\")\n",
    "features=np.array([[-0.53010046,  0.02099025, -0.66033355, -0.28997256, -1.18431286,\n",
    "       -1.10275785, -1.03091974,  1.20484991, -0.52498507, -0.2399869 ,\n",
    "        0.29292564,  0.39425368,  0.23912392]])\n",
    "model.predict(features)"
   ]
  }
 ],
 "metadata": {
  "kernelspec": {
   "display_name": "Python 3",
   "language": "python",
   "name": "python3"
  },
  "language_info": {
   "codemirror_mode": {
    "name": "ipython",
    "version": 3
   },
   "file_extension": ".py",
   "mimetype": "text/x-python",
   "name": "python",
   "nbconvert_exporter": "python",
   "pygments_lexer": "ipython3",
   "version": "3.8.5"
  }
 },
 "nbformat": 4,
 "nbformat_minor": 5
}
