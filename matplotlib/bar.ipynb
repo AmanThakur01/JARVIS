{
 "cells": [
  {
   "cell_type": "code",
   "execution_count": 10,
   "id": "2af0e457",
   "metadata": {},
   "outputs": [],
   "source": [
    "from matplotlib import pyplot as plt\n",
    "import numpy as np\n",
    "from matplotlib import style\n",
    "class_name=['py','ML','AI','DS']\n",
    "stds1=[12,10,6,7]\n",
    "stds2=[17,16,36,27]\n",
    "index=np.arange(len(class_name))"
   ]
  },
  {
   "cell_type": "code",
   "execution_count": 21,
   "id": "7016cda0",
   "metadata": {},
   "outputs": [
    {
     "data": {
      "text/plain": [
       "([<matplotlib.axis.YTick at 0x7fd85a2f8490>,\n",
       "  <matplotlib.axis.YTick at 0x7fd85a2f3cd0>,\n",
       "  <matplotlib.axis.YTick at 0x7fd85a2ebf70>,\n",
       "  <matplotlib.axis.YTick at 0x7fd85a2a4e50>],\n",
       " [Text(0, 0.3, 'py'),\n",
       "  Text(0, 1.3, 'ML'),\n",
       "  Text(0, 2.3, 'AI'),\n",
       "  Text(0, 3.3, 'DS')])"
      ]
     },
     "execution_count": 21,
     "metadata": {},
     "output_type": "execute_result"
    },
    {
     "data": {
      "image/png": "[encoded data removed]",
      "text/plain": [
       "<Figure size 432x288 with 1 Axes>"
      ]
     },
     "metadata": {
      "needs_background": "light"
     },
     "output_type": "display_data"
    }
   ],
   "source": [
    "width=0.3\n",
    "plt.barh(index,stds1,width,edgecolor='m')#,alpha=0.5\n",
    "plt.barh(index+width,stds2,width,edgecolor='m')\n",
    "plt.yticks(index+width,class_name,rotation=32)"
   ]
  },
  {
   "cell_type": "code",
   "execution_count": null,
   "id": "465116a6",
   "metadata": {},
   "outputs": [],
   "source": []
  }
 ],
 "metadata": {
  "kernelspec": {
   "display_name": "Python 3",
   "language": "python",
   "name": "python3"
  },
  "language_info": {
   "codemirror_mode": {
    "name": "ipython",
    "version": 3
   },
   "file_extension": ".py",
   "mimetype": "text/x-python",
   "name": "python",
   "nbconvert_exporter": "python",
   "pygments_lexer": "ipython3",
   "version": "3.8.5"
  }
 },
 "nbformat": 4,
 "nbformat_minor": 5
}
