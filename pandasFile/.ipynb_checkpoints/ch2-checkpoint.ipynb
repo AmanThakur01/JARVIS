{
 "cells": [
  {
   "cell_type": "code",
   "execution_count": 1,
   "id": "2f13e44d",
   "metadata": {},
   "outputs": [
    {
     "name": "stdout",
     "output_type": "stream",
     "text": [
      "    name marks city\n",
      "0   aman    11  hbj\n",
      "1  aman1    42  bhp\n",
      "2  aman2    73  cwh\n",
      "3  aman3    64  jbp\n"
     ]
    }
   ],
   "source": [
    "import pandas as pd\n",
    "import numpy as np\n",
    "\n",
    "dict = {\n",
    "    \"name\":['aman','aman1','aman2','aman3'],\n",
    "    \"marks\":['11','42','73','64'],\n",
    "    \"city\":['hbj','bhp','cwh','jbp']\n",
    "}\n",
    "dp=pd.DataFrame(dict)\n",
    "print(dp)"
   ]
  },
  {
   "cell_type": "code",
   "execution_count": null,
   "id": "fc1077b4",
   "metadata": {},
   "outputs": [],
   "source": []
  }
 ],
 "metadata": {
  "kernelspec": {
   "display_name": "Python 3",
   "language": "python",
   "name": "python3"
  },
  "language_info": {
   "codemirror_mode": {
    "name": "ipython",
    "version": 3
   },
   "file_extension": ".py",
   "mimetype": "text/x-python",
   "name": "python",
   "nbconvert_exporter": "python",
   "pygments_lexer": "ipython3",
   "version": "3.8.5"
  }
 },
 "nbformat": 4,
 "nbformat_minor": 5
}
