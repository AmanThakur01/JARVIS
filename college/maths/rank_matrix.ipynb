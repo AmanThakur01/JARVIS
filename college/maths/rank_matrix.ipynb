{
 "cells": [
  {
   "cell_type": "code",
   "execution_count": 1,
   "id": "d47f5bb4",
   "metadata": {},
   "outputs": [],
   "source": [
    "import numpy as np"
   ]
  },
  {
   "cell_type": "code",
   "execution_count": 2,
   "id": "8d3b64e0",
   "metadata": {},
   "outputs": [
    {
     "name": "stdout",
     "output_type": "stream",
     "text": [
      "Matrix\n",
      "[ 1  2 -1  2]\n",
      "[ 2  4 -2  4]\n",
      "[-1 -2  1 -2]\n"
     ]
    }
   ],
   "source": [
    "my_matrix = np.array([[1,2,-1,2],\n",
    "                   [2,4,-2,4],\n",
    "                   [-1,-2,1,-2]])\n",
    "print(\"Matrix\")\n",
    "for row in my_matrix:\n",
    "    print(row)"
   ]
  },
  {
   "cell_type": "code",
   "execution_count": 3,
   "id": "145d61e8",
   "metadata": {},
   "outputs": [
    {
     "name": "stdout",
     "output_type": "stream",
     "text": [
      "Rank of the given Matrix is :  1\n"
     ]
    }
   ],
   "source": [
    "rank = np.linalg.matrix_rank(my_matrix)\n",
    "print(\"Rank of the given Matrix is : \",rank)"
   ]
  },
  {
   "cell_type": "code",
   "execution_count": null,
   "id": "59439a3c",
   "metadata": {},
   "outputs": [],
   "source": []
  }
 ],
 "metadata": {
  "kernelspec": {
   "display_name": "Python 3",
   "language": "python",
   "name": "python3"
  },
  "language_info": {
   "codemirror_mode": {
    "name": "ipython",
    "version": 3
   },
   "file_extension": ".py",
   "mimetype": "text/x-python",
   "name": "python",
   "nbconvert_exporter": "python",
   "pygments_lexer": "ipython3",
   "version": "3.8.5"
  }
 },
 "nbformat": 4,
 "nbformat_minor": 5
}
