{
 "cells": [
  {
   "cell_type": "code",
   "execution_count": 1,
   "id": "28fd3dcc",
   "metadata": {},
   "outputs": [
    {
     "name": "stdout",
     "output_type": "stream",
     "text": [
      "Gradient of (1-x ^ 2)+(y-x ^ 2)^2 at (1, 2) is  [-4.  2.]\n"
     ]
    }
   ],
   "source": [
    "import numdifftools as nd\n",
    "def rosen(x): \n",
    "    return (1-x[0])**2 +(x[1]-x[0]**2)**2\n",
    "  \n",
    "grad2 = nd.Gradient(rosen)([1, 2])\n",
    "print(\"Gradient of (1-x ^ 2)+(y-x ^ 2)^2 at (1, 2) is \", grad2)"
   ]
  },
  {
   "cell_type": "code",
   "execution_count": null,
   "id": "731a11f4",
   "metadata": {},
   "outputs": [],
   "source": []
  }
 ],
 "metadata": {
  "kernelspec": {
   "display_name": "Python 3",
   "language": "python",
   "name": "python3"
  },
  "language_info": {
   "codemirror_mode": {
    "name": "ipython",
    "version": 3
   },
   "file_extension": ".py",
   "mimetype": "text/x-python",
   "name": "python",
   "nbconvert_exporter": "python",
   "pygments_lexer": "ipython3",
   "version": "3.8.5"
  }
 },
 "nbformat": 4,
 "nbformat_minor": 5
}
