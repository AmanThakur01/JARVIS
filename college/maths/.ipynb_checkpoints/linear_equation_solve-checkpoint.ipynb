{
 "cells": [
  {
   "cell_type": "code",
   "execution_count": 2,
   "id": "673986bf",
   "metadata": {},
   "outputs": [
    {
     "name": "stdout",
     "output_type": "stream",
     "text": [
      "A invers: [[ 0.15447154 -0.1300813   0.04065041]\n",
      " [ 0.10569106  0.01626016 -0.1300813 ]\n",
      " [ 0.03252033  0.23577236  0.11382114]]\n",
      "x,y,z= [ 5.  3. -2.]\n"
     ]
    }
   ],
   "source": [
    "import numpy as np\n",
    "A = np.array([[4, 3, 2], [-2, 2, 3], [3, -5, 2]])\n",
    "B = np.array([25, -10, -4])\n",
    "X = np.linalg.inv(A).dot(B)\n",
    "inv_A = np.linalg.inv(A)\n",
    "\n",
    "print(\"A invers:\",inv_A)\n",
    "\n",
    "print(\"x,y,z=\",X)"
   ]
  },
  {
   "cell_type": "code",
   "execution_count": null,
   "id": "25ebebb8",
   "metadata": {},
   "outputs": [],
   "source": []
  }
 ],
 "metadata": {
  "kernelspec": {
   "display_name": "Python 3",
   "language": "python",
   "name": "python3"
  },
  "language_info": {
   "codemirror_mode": {
    "name": "ipython",
    "version": 3
   },
   "file_extension": ".py",
   "mimetype": "text/x-python",
   "name": "python",
   "nbconvert_exporter": "python",
   "pygments_lexer": "ipython3",
   "version": "3.8.5"
  }
 },
 "nbformat": 4,
 "nbformat_minor": 5
}
