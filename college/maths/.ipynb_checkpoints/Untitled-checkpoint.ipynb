{
 "cells": [
  {
   "cell_type": "code",
   "execution_count": null,
   "id": "5739e0a1",
   "metadata": {},
   "outputs": [],
   "source": [
    "def g(x):\n",
    "    return x[0]**2+x[1]**3+1\n",
    "r0 = np.array([1,2,3])\n",
    "grad(g,r0)\n",
    "array([ 2., 12.,  0.])\n",
    "laplacian(g,r0)\n",
    "def v1(x):\n",
    "    return np.array([x[1]**3,x[0]**2,x[0]])\n",
    "def v2(x):\n",
    "    return np.array([x[0]**3*x[2],x[1],x[2]*x[1]])\n",
    "r0 = np.array([1,2,3])\n",
    "curl(v1,r0)\n",
    "\n",
    "div(v1,r0), div(v2,r0)\n",
    "\n"
   ]
  }
 ],
 "metadata": {
  "kernelspec": {
   "display_name": "Python 3",
   "language": "python",
   "name": "python3"
  },
  "language_info": {
   "codemirror_mode": {
    "name": "ipython",
    "version": 3
   },
   "file_extension": ".py",
   "mimetype": "text/x-python",
   "name": "python",
   "nbconvert_exporter": "python",
   "pygments_lexer": "ipython3",
   "version": "3.8.5"
  }
 },
 "nbformat": 4,
 "nbformat_minor": 5
}
